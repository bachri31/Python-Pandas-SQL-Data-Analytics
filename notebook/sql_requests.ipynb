{
 "cells": [
  {
   "cell_type": "markdown",
   "id": "eccc1841",
   "metadata": {},
   "source": [
    "# Introduction\n",
    "Author : Laroussi Labid Bachri\n",
    "Ce notebook montre comment exécuter des requêtes SQL et exploiter les résultats avec pandas pour l'analyse de données. Il a été conçu pour être inclus dans un dépôt GitHub et sert de guide reproductible pour :\n",
    "- se connecter à une base de données (SQLite) sans exposer de credentials,\n",
    "- exécuter des requêtes SQL (sélection, jointures, agrégations),\n",
    "- charger et transformer les résultats dans des pandas.DataFrame,\n",
    "- effectuer des opérations de nettoyage, d'analyse et d'export (CSV/parquet).\n",
    "\n",
    "Prérequis\n",
    "- Python 3.8+\n",
    "- pandas, sqlite3\n",
    "- variables d'environnement ou fichier .env pour la string de connexion (ne pas committer les credentials)\n",
    "\n",
    "\n"
   ]
  },
  {
   "cell_type": "markdown",
   "id": "b57069ed",
   "metadata": {},
   "source": [
    "## Sommaire\n",
    "- [Vue d'ensemble des ventes](#vue)\n",
    "- [Analyse des produits](#produits)\n",
    "- [Analyse géographique](#geo)\n",
    "- [Analyse temporelle](#temps)\n",
    "- [Analyse clients](#clients)\n",
    "- [Indicateurs clé](#indicateurs)\n",
    "- [Utilisation de pandas](#pandas)\n",
    "- [Visualisation de pandas](#visualisation)\n",
    "\n"
   ]
  },
  {
   "cell_type": "markdown",
   "id": "d4e4fbec",
   "metadata": {},
   "source": [
    "\n",
    "<p style=\"font-size:30px; color:#2F5D75; font-weight:bold;\">Importation des modules necessaires</p>"
   ]
  },
  {
   "cell_type": "code",
   "execution_count": 42,
   "id": "07efa372",
   "metadata": {},
   "outputs": [],
   "source": [
    "import pandas as pd\n",
    "import sqlite3\n",
    "import numpy as np\n",
    "from pprint import pprint\n",
    "import matplotlib.pyplot as plt"
   ]
  },
  {
   "cell_type": "markdown",
   "id": "9ae51942",
   "metadata": {},
   "source": [
    "\n",
    "<p style=\"font-size:30px; color:#2F5D75; font-weight:bold;\">Connexion a la base de données (local)</p>"
   ]
  },
  {
   "cell_type": "code",
   "execution_count": 43,
   "id": "1ea7095a",
   "metadata": {},
   "outputs": [],
   "source": [
    "con = sqlite3.connect('../main.db')\n",
    "cur = con.cursor()"
   ]
  },
  {
   "cell_type": "code",
   "execution_count": 44,
   "id": "97962ed0",
   "metadata": {},
   "outputs": [
    {
     "name": "stdout",
     "output_type": "stream",
     "text": [
      "[10100, 10100, 10100, 10100, 10101]\n"
     ]
    }
   ],
   "source": [
    "cur.execute('Select orderID FROM ventes') # execute ne renvoie rien tout seul faut utiliser fetchall et print\n",
    "orders = [r[0] for r in cur.fetchall()] # on ameliore la lisbilite avec une liste au lieu d'une liste de tuples.\n",
    "pprint(orders[:5])"
   ]
  },
  {
   "cell_type": "markdown",
   "id": "6dba40f2",
   "metadata": {},
   "source": [
    "<p style=\"font-size:38px; color:#CAD9B2; font-weight:bold;\">Utilisation de SQLite3</p>"
   ]
  },
  {
   "cell_type": "markdown",
   "id": "ad1bd491",
   "metadata": {},
   "source": [
    "\n",
    "<p style=\"font-size:30px; color:#2F5D75; font-weight:bold;\">Qualité des données</p>\n",
    "\n",
    "\n"
   ]
  },
  {
   "cell_type": "markdown",
   "id": "165c4788",
   "metadata": {},
   "source": [
    "<h2 style=\"color:#93B336; font-size:22px;\">Données incohérentes</h2>\n",
    "<p>Vérification des prix ou quantités nulles ou négatives.</p>"
   ]
  },
  {
   "cell_type": "code",
   "execution_count": 45,
   "id": "96500a96",
   "metadata": {},
   "outputs": [],
   "source": [
    "cur.execute('''SELECT *\n",
    "FROM ventes\n",
    "WHERE price <= 0 OR quantity <= 0;''')\n",
    "\n",
    "nan_prices_quantity = cur.fetchall()\n"
   ]
  },
  {
   "cell_type": "markdown",
   "id": "68758c66",
   "metadata": {},
   "source": [
    "\n",
    "\n",
    "<h2 style=\"color:#93B336; font-size:22px;\">Valeurs manquantes</h2>\n",
    "<p>Détection des champs critiques vides pour garantir l’intégrité de l’analyse.</p>"
   ]
  },
  {
   "cell_type": "code",
   "execution_count": 46,
   "id": "6a04a09e",
   "metadata": {},
   "outputs": [
    {
     "name": "stdout",
     "output_type": "stream",
     "text": [
      "Les données sont propres. Nous pouvons alors les analyser. \n",
      "[]\n"
     ]
    }
   ],
   "source": [
    "cur.execute('''SELECT *\n",
    "FROM ventes\n",
    "WHERE orderID IS NULL OR company_name IS NULL OR sales IS NULL;''') \n",
    "\n",
    "nan = cur.fetchall()\n",
    "if len(nan)== 0 and len(nan_prices_quantity)==0:\n",
    "    print('Les données sont propres. Nous pouvons alors les analyser. ')\n",
    "print(nan)\n"
   ]
  },
  {
   "cell_type": "markdown",
   "id": "065c2333",
   "metadata": {},
   "source": [
    "<h1 id=\"vue\" style=\"font-size:30px; color:#2F5D75; font-weight:bold;\">\n",
    " Vue d'ensemble des ventes\n",
    "</h1>\n"
   ]
  },
  {
   "cell_type": "markdown",
   "id": "195abc81",
   "metadata": {},
   "source": [
    "\n",
    "<h2 style=\"color:#93B336; font-size:22px;\">Chiffre d'affaires total</h2>\n",
    "<p>Analyse du chiffre d'affaires global sur toute la période étudiée.</p>"
   ]
  },
  {
   "cell_type": "code",
   "execution_count": 47,
   "id": "386b15e8",
   "metadata": {},
   "outputs": [
    {
     "name": "stdout",
     "output_type": "stream",
     "text": [
      "Le chiffre d'affaire totale est de 10032628.85 €\n"
     ]
    }
   ],
   "source": [
    "cur.execute('SELECT ROUND(SUM(sales),2) as total_sales FROM ventes')\n",
    "ca = cur.fetchone()[0]\n",
    "print(f\"Le chiffre d'affaire totale est de {ca} €\")"
   ]
  },
  {
   "cell_type": "markdown",
   "id": "c2ea70c1",
   "metadata": {},
   "source": [
    "<h2 style=\"color:#93B336; font-size:22px;\">Nombre total de commandes</h2>\n",
    "<p>Nombre de commandes passées, avec analyse de leur répartition par année.</p>"
   ]
  },
  {
   "cell_type": "code",
   "execution_count": 48,
   "id": "3075e0b5",
   "metadata": {},
   "outputs": [
    {
     "name": "stdout",
     "output_type": "stream",
     "text": [
      "Le nombre total de commandes est de 307\n"
     ]
    }
   ],
   "source": [
    "cur.execute('SELECT COUNT(DISTINCT orderID) as total_orders FROM ventes')\n",
    "total_orders = cur.fetchone()[0]\n",
    "print(f\"Le nombre total de commandes est de {total_orders}\")"
   ]
  },
  {
   "cell_type": "markdown",
   "id": "d1db852a",
   "metadata": {},
   "source": [
    "<h2 style=\"color:#93B336; font-size:22px;\">Nombre de clients distincts</h2>\n",
    "<p>Comptage des clients uniques pour estimer la diversité du portefeuille client.</p>"
   ]
  },
  {
   "cell_type": "code",
   "execution_count": 49,
   "id": "9a38f516",
   "metadata": {},
   "outputs": [
    {
     "name": "stdout",
     "output_type": "stream",
     "text": [
      "Le nombre total de clients est de 92\n"
     ]
    }
   ],
   "source": [
    "cur.execute('SELECT COUNT(DISTINCT company_name) as total_clients FROM ventes')\n",
    "total_clients = cur.fetchone()[0]\n",
    "print(f\"Le nombre total de clients est de {total_clients}\")"
   ]
  },
  {
   "cell_type": "markdown",
   "id": "8d980603",
   "metadata": {},
   "source": [
    "<h1 id=\"produits\" style=\"font-size:30px; color:#2F5D75; font-weight:bold;\">\n",
    "Analyse des produits\n",
    "</h1>"
   ]
  },
  {
   "cell_type": "markdown",
   "id": "d058baef",
   "metadata": {},
   "source": [
    "<h2 style=\"color:#93B336; font-size:22px;\"> Top 10 des produits les plus vendus</h2>\n",
    "<p>Liste des références produits générant le plus de chiffre d'affaires.</p>"
   ]
  },
  {
   "cell_type": "code",
   "execution_count": 50,
   "id": "9783980f",
   "metadata": {},
   "outputs": [
    {
     "name": "stdout",
     "output_type": "stream",
     "text": [
      "Le top 10 des produits les plus vendus :\n",
      "\n",
      " 1. S18_3232   | Classic Cars    | 288,245.42 €\n",
      " 2. S10_1949   | Classic Cars    | 191,073.03 €\n",
      " 3. S10_4698   | Motorcycles     | 170,401.07 €\n",
      " 4. S12_1108   | Classic Cars    | 168,585.32 €\n",
      " 5. S18_2238   | Classic Cars    | 154,623.95 €\n",
      " 6. S12_3891   | Classic Cars    | 145,332.04 €\n",
      " 7. S24_3856   | Classic Cars    | 140,626.90 €\n",
      " 8. S12_2823   | Motorcycles     | 140,006.16 €\n",
      " 9. S18_1662   | Planes          | 139,421.97 €\n",
      "10. S12_1099   | Classic Cars    | 137,177.01 €\n"
     ]
    }
   ],
   "source": [
    "cur.execute('''SELECT ref_prod, product_category, ROUND(SUM(sales), 2) AS total_sales FROM ventes\n",
    "GROUP BY ref_prod, product_category\n",
    "ORDER BY total_sales DESC\n",
    "LIMIT 10;''')\n",
    "top10_prod = cur.fetchall()\n",
    "print(f\"Le top 10 des produits les plus vendus :\\n\")\n",
    "for i, (code, category, total) in enumerate(top10_prod, start=1):\n",
    "    print(f\"{i:>2}. {code:<10} | {category:<15} | {total:>10,.2f} €\")"
   ]
  },
  {
   "cell_type": "markdown",
   "id": "dab9ec77",
   "metadata": {},
   "source": [
    "<h2 style=\"color:#93B336; font-size:22px;\">Analyse par catégorie de produits</h2>\n",
    "<p>Comparaison du chiffre d'affaires entre les différentes categories (Classic Cars, Motorcycles, etc.).</p>"
   ]
  },
  {
   "cell_type": "code",
   "execution_count": 51,
   "id": "17807aa4",
   "metadata": {},
   "outputs": [
    {
     "name": "stdout",
     "output_type": "stream",
     "text": [
      "Classic Cars    | 3,919,615.66 €\n",
      "Vintage Cars    | 1,903,150.84 €\n",
      "Motorcycles     | 1,166,388.34 €\n",
      "Trucks and Buses | 1,127,789.84 €\n",
      "Planes          | 975,003.57 €\n"
     ]
    }
   ],
   "source": [
    "cur.execute('''SELECT product_category, ROUND(SUM(sales), 2) AS total_sales\n",
    "FROM ventes\n",
    "GROUP BY product_category\n",
    "ORDER BY total_sales DESC\n",
    "LIMIT 5\n",
    ";''')\n",
    "\n",
    "top5_category = cur.fetchall()\n",
    "for i, ( category, total) in enumerate(top5_category, start=1):\n",
    "    print(f\"{category:<15} | {total:>10,.2f} €\")"
   ]
  },
  {
   "cell_type": "markdown",
   "id": "5ae7ca08",
   "metadata": {},
   "source": [
    "<h1 id=\"geo\" style=\"font-size:30px; color:#2F5D75; font-weight:bold;\">\n",
    "Analyse géographique\n",
    "</h1>"
   ]
  },
  {
   "cell_type": "markdown",
   "id": "5c43aee9",
   "metadata": {},
   "source": [
    "\n",
    "<h2 style=\"color:#93B336; font-size:22px;\">Classement des pays par chiffre d'affaires</h2>\n",
    "<p>Identification des marchés les plus performants en termes de ventes.</p>"
   ]
  },
  {
   "cell_type": "code",
   "execution_count": 52,
   "id": "f0ffac62",
   "metadata": {},
   "outputs": [
    {
     "name": "stdout",
     "output_type": "stream",
     "text": [
      "USA             | 3,627,982.83 €\n",
      "Spain           | 1,215,686.92 €\n",
      "France          | 1,110,916.52 €\n",
      "Australia       | 630,623.10 €\n",
      "UK              | 478,880.46 €\n",
      "Italy           | 374,674.31 €\n",
      "Finland         | 329,581.91 €\n",
      "Norway          | 307,463.70 €\n",
      "Singapore       | 288,488.41 €\n",
      "Denmark         | 245,637.15 €\n"
     ]
    }
   ],
   "source": [
    "cur.execute('''SELECT country, ROUND(SUM(sales), 2) AS total_sales\n",
    "FROM ventes\n",
    "GROUP BY country\n",
    "ORDER BY total_sales DESC\n",
    "LIMIT 10;\n",
    "''')\n",
    "\n",
    "top10countries = cur.fetchall()\n",
    "for i, (country, total) in enumerate(top10countries, start=1):\n",
    "    print(f\"{country:<15} | {total:>10,.2f} €\")"
   ]
  },
  {
   "cell_type": "markdown",
   "id": "b5895fbd",
   "metadata": {},
   "source": [
    "Les 3 pays avec un plus grand chiffre d'affaire sont les Etats Unis, la France et l'Espagne."
   ]
  },
  {
   "cell_type": "markdown",
   "id": "880dc7ae",
   "metadata": {},
   "source": [
    "\n",
    "<h2 style=\"color:#93B336; font-size:22px;\">\n",
    "Moyenne des ventes par pays</h2>\n",
    "<p>Étude comparative du panier moyen selon la localisation géographique.</p>"
   ]
  },
  {
   "cell_type": "code",
   "execution_count": 53,
   "id": "d66d92f9",
   "metadata": {},
   "outputs": [
    {
     "name": "stdout",
     "output_type": "stream",
     "text": [
      "Denmark         |   3,899.00 €\n",
      "Switzerland     |   3,797.21 €\n",
      "Sweden          |   3,684.46 €\n",
      "Austria         |   3,673.86 €\n",
      "Singapore       |   3,651.75 €\n",
      "Japan           |   3,618.61 €\n",
      "Norway          |   3,617.22 €\n",
      "Philippines     |   3,615.99 €\n",
      "USA             |   3,613.53 €\n",
      "Ireland         |   3,609.78 €\n",
      "Finland         |   3,582.41 €\n",
      "Germany         |   3,556.00 €\n",
      "Spain           |   3,554.64 €\n",
      "France          |   3,537.95 €\n",
      "Australia       |   3,408.77 €\n",
      "UK              |   3,325.56 €\n",
      "Italy           |   3,315.70 €\n",
      "Belgium         |   3,285.23 €\n",
      "Canada          |   3,201.12 €\n"
     ]
    }
   ],
   "source": [
    "cur.execute('''SELECT country, ROUND(AVG(sales), 2) AS avg_sales\n",
    "FROM ventes\n",
    "GROUP BY country\n",
    "ORDER BY avg_sales DESC\n",
    ";\n",
    "''')\n",
    "\n",
    "moy_countries = cur.fetchall()\n",
    "for i, (country, avg_sales) in enumerate(moy_countries, start=1):\n",
    "    print(f\"{country:<15} | {avg_sales:>10,.2f} €\")\n"
   ]
  },
  {
   "cell_type": "markdown",
   "id": "cb762a95",
   "metadata": {},
   "source": [
    "On obtient ici la moyenne de ventes par commande selon les pays."
   ]
  },
  {
   "cell_type": "markdown",
   "id": "615b7edd",
   "metadata": {},
   "source": [
    "<h1 id=\"temps\" style=\"font-size:30px; color:#2F5D75; font-weight:bold;\">\n",
    "Analyse temporelle\n",
    "</h1>"
   ]
  },
  {
   "cell_type": "markdown",
   "id": "2e5af0bf",
   "metadata": {},
   "source": [
    "<h2 style=\"color:#93B336; font-size:22px;\">Évolution du chiffre d'affaires par année</h2>\n",
    "<p>Suivi de la croissance ou de la baisse des ventes sur plusieurs exercices.</p>"
   ]
  },
  {
   "cell_type": "code",
   "execution_count": 54,
   "id": "f37a3b0d",
   "metadata": {},
   "outputs": [
    {
     "name": "stdout",
     "output_type": "stream",
     "text": [
      "Évolution du chiffre d'affaires par année:\n",
      "\n",
      "2003       | 3,516,979.54 €\n",
      "2004       | 4,724,162.60 €\n",
      "2005       | 1,791,486.71 €\n"
     ]
    }
   ],
   "source": [
    "cur.execute('''SELECT year, ROUND(SUM(sales), 2) AS total_sales\n",
    "FROM ventes\n",
    "GROUP BY year\n",
    "ORDER BY year;\n",
    "''')\n",
    "\n",
    "evol_ca_annee = cur.fetchall()\n",
    "\n",
    "print(\"Évolution du chiffre d'affaires par année:\\n\")\n",
    "for year , sales in evol_ca_annee:\n",
    "    print(f\"{year:<10} | {sales:>12,.2f} €\")\n"
   ]
  },
  {
   "cell_type": "markdown",
   "id": "5825b358",
   "metadata": {},
   "source": [
    "<h2 style=\"color:#93B336; font-size:22px;\">Répartition par trimestre</h2>\n",
    "<p>Visualisation des cycles de ventes saisonniers ou des pics d’activité trimestriels.</p>"
   ]
  },
  {
   "cell_type": "code",
   "execution_count": 55,
   "id": "5c759fcf",
   "metadata": {},
   "outputs": [
    {
     "name": "stdout",
     "output_type": "stream",
     "text": [
      "Évolution du chiffre d'affaires par trimestre:\n",
      "\n",
      "2003   | T1  |   445,094.69 €\n",
      "2003   | T2  |   562,365.22 €\n",
      "2003   | T3  |   649,514.54 €\n",
      "2003   | T4  | 1,860,005.09 €\n",
      "2004   | T1  |   833,730.68 €\n",
      "2004   | T2  |   766,260.73 €\n",
      "2004   | T3  | 1,109,396.27 €\n",
      "2004   | T4  | 2,014,774.92 €\n",
      "2005   | T1  | 1,071,992.36 €\n",
      "2005   | T2  |   719,494.35 €\n"
     ]
    }
   ],
   "source": [
    "cur.execute('''\n",
    "SELECT year, QTR_ID AS quarter, ROUND(SUM(sales), 2) AS total_sales\n",
    "FROM ventes\n",
    "GROUP BY year, quarter\n",
    "ORDER BY year, quarter;\n",
    "''')\n",
    "\n",
    "evol_ca_trim = cur.fetchall()\n",
    "\n",
    "print(\"Évolution du chiffre d'affaires par trimestre:\\n\")\n",
    "for year, quarter, sales in evol_ca_trim:\n",
    "    print(f\"{year:<6} | T{quarter:<2} | {sales:>12,.2f} €\")\n"
   ]
  },
  {
   "cell_type": "markdown",
   "id": "4125c3b8",
   "metadata": {},
   "source": [
    "<h2 style=\"color:#93B336; font-size:22px;\">\n",
    "Évolution mensuelle</h2>\n",
    "<p>Analyse plus fine des tendances de ventes au fil des mois.</p>"
   ]
  },
  {
   "cell_type": "code",
   "execution_count": 56,
   "id": "80f5f892",
   "metadata": {},
   "outputs": [
    {
     "name": "stdout",
     "output_type": "stream",
     "text": [
      "\n",
      "Évolution du chiffre d'affaires par mois:\n",
      "\n",
      "2003   | Mois 1  |   129,753.60 €\n",
      "2003   | Mois 2  |   140,836.19 €\n",
      "2003   | Mois 3  |   174,504.90 €\n",
      "2003   | Mois 4  |   201,609.55 €\n",
      "2003   | Mois 5  |   192,673.11 €\n",
      "2003   | Mois 6  |   168,082.56 €\n",
      "2003   | Mois 7  |   187,731.88 €\n",
      "2003   | Mois 8  |   197,809.30 €\n",
      "2003   | Mois 9  |   263,973.36 €\n",
      "2003   | Mois 10 |   568,290.97 €\n",
      "2003   | Mois 11 | 1,029,837.66 €\n",
      "2003   | Mois 12 |   261,876.46 €\n",
      "2004   | Mois 1  |   316,577.42 €\n",
      "2004   | Mois 2  |   311,419.53 €\n",
      "2004   | Mois 3  |   205,733.73 €\n",
      "2004   | Mois 4  |   206,148.12 €\n",
      "2004   | Mois 5  |   273,438.39 €\n",
      "2004   | Mois 6  |   286,674.22 €\n",
      "2004   | Mois 7  |   327,144.09 €\n",
      "2004   | Mois 8  |   461,501.27 €\n",
      "2004   | Mois 9  |   320,750.91 €\n",
      "2004   | Mois 10 |   552,924.25 €\n",
      "2004   | Mois 11 | 1,089,048.01 €\n",
      "2004   | Mois 12 |   372,802.66 €\n",
      "2005   | Mois 1  |   339,543.42 €\n",
      "2005   | Mois 2  |   358,186.18 €\n",
      "2005   | Mois 3  |   374,262.76 €\n",
      "2005   | Mois 4  |   261,633.29 €\n",
      "2005   | Mois 5  |   457,861.06 €\n"
     ]
    }
   ],
   "source": [
    "cur.execute('''\n",
    "SELECT year, month, ROUND(SUM(sales), 2) AS total_sales\n",
    "FROM ventes\n",
    "GROUP BY year, month\n",
    "ORDER BY year, month;\n",
    "''')\n",
    "\n",
    "evol_ca_mois = cur.fetchall()\n",
    "\n",
    "print(\"\\nÉvolution du chiffre d'affaires par mois:\\n\")\n",
    "for year, month, sales in evol_ca_mois:\n",
    "    print(f\"{year:<6} | Mois {month:<2} | {sales:>12,.2f} €\")\n"
   ]
  },
  {
   "cell_type": "markdown",
   "id": "74c2b0e1",
   "metadata": {},
   "source": [
    "\n",
    "<h1 id=\"clients\" style=\"font-size:30px; color:#2F5D75; font-weight:bold;\">\n",
    "Analyse clients\n",
    "</h1>"
   ]
  },
  {
   "cell_type": "markdown",
   "id": "1c83ad90",
   "metadata": {},
   "source": [
    "<h2 style=\"color:#93B336; font-size:22px;\">Top 10 des meilleurs clients</h2>\n",
    "<p>Clients les plus rentables sur la période étudiée.</p>"
   ]
  },
  {
   "cell_type": "code",
   "execution_count": 57,
   "id": "dcd2b82a",
   "metadata": {},
   "outputs": [
    {
     "name": "stdout",
     "output_type": "stream",
     "text": [
      "Euro Shopping Channel |   912,294.11 €\n",
      "Mini Gifts Distributors Ltd. |   654,858.06 €\n",
      "Australian Collectors, Co. |   200,995.41 €\n",
      "Muscle Machine Inc |   197,736.94 €\n",
      "La Rochelle Gifts |   180,124.90 €\n",
      "Dragon Souveniers, Ltd. |   172,989.68 €\n",
      "Land of Toys Inc. |   164,069.44 €\n",
      "The Sharp Gifts Warehouse |   160,010.27 €\n",
      "AV Stores, Co. |   157,807.81 €\n",
      "Anna's Decorations, Ltd |   153,996.13 €\n"
     ]
    }
   ],
   "source": [
    "cur.execute('''SELECT company_name, ROUND(SUM(sales), 2) AS total_sales\n",
    "FROM ventes\n",
    "GROUP BY company_name\n",
    "ORDER BY total_sales DESC\n",
    "LIMIT 10;\n",
    "''')\n",
    "\n",
    "top10clients = cur.fetchall()\n",
    "\n",
    "for i , (company_name , total_sales) in enumerate(top10clients,start=1):\n",
    "    print(f\"{company_name:<10} | {total_sales:>12,.2f} €\")\n",
    "\n"
   ]
  },
  {
   "cell_type": "markdown",
   "id": "5cfeb2e8",
   "metadata": {},
   "source": [
    "<h2 style=\"color:#93B336; font-size:22px;\">Taille moyenne des commandes</h2>\n",
    "<p>Analyse du montant moyen par commande et par taille de deal.</p>\n"
   ]
  },
  {
   "cell_type": "code",
   "execution_count": 58,
   "id": "f91a9359",
   "metadata": {},
   "outputs": [
    {
     "name": "stdout",
     "output_type": "stream",
     "text": [
      "Large      |     8,293.75 €\n",
      "Medium     |     4,398.43 €\n",
      "Small      |     2,061.68 €\n"
     ]
    }
   ],
   "source": [
    "cur.execute('''SELECT taille, ROUND(AVG(sales), 2) AS avg_sales\n",
    "FROM ventes\n",
    "GROUP BY taille\n",
    "ORDER BY avg_sales DESC;\n",
    "''')\n",
    "\n",
    "taille_moy_commandes = cur.fetchall()\n",
    "\n",
    "for i , (taille , avg_sales) in enumerate(taille_moy_commandes,start=1):\n",
    "    print(f\"{taille:<10} | {avg_sales:>12,.2f} €\")\n",
    "\n"
   ]
  },
  {
   "cell_type": "markdown",
   "id": "bf79de55",
   "metadata": {},
   "source": [
    "\n",
    "<h1 id=\"indicateurs\" style=\"font-size:30px; color:#2F5D75; font-weight:bold;\">\n",
    "Indicateurs clé\n",
    "</h1>\n"
   ]
  },
  {
   "cell_type": "markdown",
   "id": "e551f293",
   "metadata": {},
   "source": [
    "<h2 style=\"color:#93B336; font-size:22px;\">Ticket moyen</h2>\n",
    "<p>Montant moyen du chiffre d'affaires par commande.</p>"
   ]
  },
  {
   "cell_type": "code",
   "execution_count": 59,
   "id": "73e0ebe1",
   "metadata": {},
   "outputs": [
    {
     "name": "stdout",
     "output_type": "stream",
     "text": [
      "Le ticket moyen est de 32,679.57 € par commande.\n"
     ]
    }
   ],
   "source": [
    "cur.execute('''SELECT ROUND(SUM(sales) / COUNT(DISTINCT orderID), 2) AS avg_ticket\n",
    "FROM ventes;\n",
    "''')\n",
    "\n",
    "avg_ticket = cur.fetchall()[0]\n",
    "\n",
    "for i , (avg_ticket) in enumerate(avg_ticket,start=1):\n",
    "    print(f\"Le ticket moyen est de {avg_ticket:,.2f} € par commande.\")"
   ]
  },
  {
   "cell_type": "markdown",
   "id": "e0c7af1a",
   "metadata": {},
   "source": [
    "<h2 style=\"color:#93B336; font-size:22px;\">Produits par commande</h2>\n",
    "<p>Nombre moyen de lignes produits par commande, indicateur d’upselling.</p>"
   ]
  },
  {
   "cell_type": "code",
   "execution_count": 60,
   "id": "d6c003bd",
   "metadata": {},
   "outputs": [
    {
     "name": "stdout",
     "output_type": "stream",
     "text": [
      "Le nombre de produits moyen est de 9.20 par commande.\n"
     ]
    }
   ],
   "source": [
    "cur.execute('''SELECT ROUND(COUNT(*) * 1.0 / COUNT(DISTINCT orderID), 2) AS avg_products_per_order\n",
    "FROM ventes;\n",
    "''')\n",
    "\n",
    "avg_products_per_order = cur.fetchall()[0]\n",
    "\n",
    "for i , (avg_products_per_order) in enumerate(avg_products_per_order,start=1):\n",
    "    print(f\"Le nombre de produits moyen est de {avg_products_per_order:,.2f} par commande.\")\n"
   ]
  },
  {
   "cell_type": "markdown",
   "id": "bad53670",
   "metadata": {},
   "source": [
    "\n",
    "<h1 id=\"pandas\" style=\"font-size:30px; color:#2F5D75; font-weight:bold;\">\n",
    "Utilisation de pandas 🐼\n",
    "</h1>"
   ]
  },
  {
   "cell_type": "markdown",
   "id": "fe489f94",
   "metadata": {},
   "source": [
    "La premiere chose que l'on va faire est de charger notre table sous forme de dataframe pour pouvoir manipuler les données avec pandas.\n"
   ]
  },
  {
   "cell_type": "code",
   "execution_count": 61,
   "id": "13f11f40",
   "metadata": {},
   "outputs": [],
   "source": [
    "con = sqlite3.connect(\"../main.db\")\n",
    "df = pd.read_sql_query('SELECT * FROM ventes',con)"
   ]
  },
  {
   "cell_type": "code",
   "execution_count": 62,
   "id": "4ac474e8",
   "metadata": {},
   "outputs": [
    {
     "data": {
      "text/html": [
       "<div>\n",
       "<style scoped>\n",
       "    .dataframe tbody tr th:only-of-type {\n",
       "        vertical-align: middle;\n",
       "    }\n",
       "\n",
       "    .dataframe tbody tr th {\n",
       "        vertical-align: top;\n",
       "    }\n",
       "\n",
       "    .dataframe thead th {\n",
       "        text-align: right;\n",
       "    }\n",
       "</style>\n",
       "<table border=\"1\" class=\"dataframe\">\n",
       "  <thead>\n",
       "    <tr style=\"text-align: right;\">\n",
       "      <th></th>\n",
       "      <th>orderID</th>\n",
       "      <th>orderlinenumber</th>\n",
       "      <th>quantity</th>\n",
       "      <th>price</th>\n",
       "      <th>sales</th>\n",
       "      <th>date</th>\n",
       "      <th>status</th>\n",
       "      <th>QTR_ID</th>\n",
       "      <th>month</th>\n",
       "      <th>year</th>\n",
       "      <th>...</th>\n",
       "      <th>adress</th>\n",
       "      <th>adress_comp</th>\n",
       "      <th>city</th>\n",
       "      <th>state</th>\n",
       "      <th>zipcode</th>\n",
       "      <th>country</th>\n",
       "      <th>territory</th>\n",
       "      <th>contact_last_name</th>\n",
       "      <th>contact_first_name</th>\n",
       "      <th>taille</th>\n",
       "    </tr>\n",
       "  </thead>\n",
       "  <tbody>\n",
       "    <tr>\n",
       "      <th>0</th>\n",
       "      <td>10107</td>\n",
       "      <td>2</td>\n",
       "      <td>30</td>\n",
       "      <td>95.70</td>\n",
       "      <td>2871.00</td>\n",
       "      <td>2/24/2003 0:00</td>\n",
       "      <td>Shipped</td>\n",
       "      <td>1</td>\n",
       "      <td>2</td>\n",
       "      <td>2003</td>\n",
       "      <td>...</td>\n",
       "      <td>897 Long Airport Avenue</td>\n",
       "      <td></td>\n",
       "      <td>NYC</td>\n",
       "      <td>NY</td>\n",
       "      <td>10022</td>\n",
       "      <td>USA</td>\n",
       "      <td>NA</td>\n",
       "      <td>Yu</td>\n",
       "      <td>Kwai</td>\n",
       "      <td>Small</td>\n",
       "    </tr>\n",
       "    <tr>\n",
       "      <th>1</th>\n",
       "      <td>10121</td>\n",
       "      <td>5</td>\n",
       "      <td>34</td>\n",
       "      <td>81.35</td>\n",
       "      <td>2765.90</td>\n",
       "      <td>5/7/2003 00:00</td>\n",
       "      <td>Shipped</td>\n",
       "      <td>2</td>\n",
       "      <td>5</td>\n",
       "      <td>2003</td>\n",
       "      <td>...</td>\n",
       "      <td>59 rue de l'Abbaye</td>\n",
       "      <td></td>\n",
       "      <td>Reims</td>\n",
       "      <td></td>\n",
       "      <td>51100</td>\n",
       "      <td>France</td>\n",
       "      <td>EMEA</td>\n",
       "      <td>Henriot</td>\n",
       "      <td>Paul</td>\n",
       "      <td>Small</td>\n",
       "    </tr>\n",
       "    <tr>\n",
       "      <th>2</th>\n",
       "      <td>10134</td>\n",
       "      <td>2</td>\n",
       "      <td>41</td>\n",
       "      <td>94.74</td>\n",
       "      <td>3884.34</td>\n",
       "      <td>7/1/2003 00:00</td>\n",
       "      <td>Shipped</td>\n",
       "      <td>3</td>\n",
       "      <td>7</td>\n",
       "      <td>2003</td>\n",
       "      <td>...</td>\n",
       "      <td>27 rue du Colonel Pierre Avia</td>\n",
       "      <td></td>\n",
       "      <td>Paris</td>\n",
       "      <td></td>\n",
       "      <td>75508</td>\n",
       "      <td>France</td>\n",
       "      <td>EMEA</td>\n",
       "      <td>Da Cunha</td>\n",
       "      <td>Daniel</td>\n",
       "      <td>Medium</td>\n",
       "    </tr>\n",
       "    <tr>\n",
       "      <th>3</th>\n",
       "      <td>10145</td>\n",
       "      <td>6</td>\n",
       "      <td>45</td>\n",
       "      <td>83.26</td>\n",
       "      <td>3746.70</td>\n",
       "      <td>8/25/2003 0:00</td>\n",
       "      <td>Shipped</td>\n",
       "      <td>3</td>\n",
       "      <td>8</td>\n",
       "      <td>2003</td>\n",
       "      <td>...</td>\n",
       "      <td>78934 Hillside Dr.</td>\n",
       "      <td></td>\n",
       "      <td>Pasadena</td>\n",
       "      <td>CA</td>\n",
       "      <td>90003</td>\n",
       "      <td>USA</td>\n",
       "      <td>NA</td>\n",
       "      <td>Young</td>\n",
       "      <td>Julie</td>\n",
       "      <td>Medium</td>\n",
       "    </tr>\n",
       "    <tr>\n",
       "      <th>4</th>\n",
       "      <td>10159</td>\n",
       "      <td>14</td>\n",
       "      <td>49</td>\n",
       "      <td>100.00</td>\n",
       "      <td>5205.27</td>\n",
       "      <td>10/10/2003 00:00</td>\n",
       "      <td>Shipped</td>\n",
       "      <td>4</td>\n",
       "      <td>10</td>\n",
       "      <td>2003</td>\n",
       "      <td>...</td>\n",
       "      <td>7734 Strong St.</td>\n",
       "      <td></td>\n",
       "      <td>San Francisco</td>\n",
       "      <td>CA</td>\n",
       "      <td></td>\n",
       "      <td>USA</td>\n",
       "      <td>NA</td>\n",
       "      <td>Brown</td>\n",
       "      <td>Julie</td>\n",
       "      <td>Medium</td>\n",
       "    </tr>\n",
       "  </tbody>\n",
       "</table>\n",
       "<p>5 rows × 25 columns</p>\n",
       "</div>"
      ],
      "text/plain": [
       "   orderID  orderlinenumber  quantity   price    sales              date  \\\n",
       "0    10107                2        30   95.70  2871.00    2/24/2003 0:00   \n",
       "1    10121                5        34   81.35  2765.90    5/7/2003 00:00   \n",
       "2    10134                2        41   94.74  3884.34    7/1/2003 00:00   \n",
       "3    10145                6        45   83.26  3746.70    8/25/2003 0:00   \n",
       "4    10159               14        49  100.00  5205.27  10/10/2003 00:00   \n",
       "\n",
       "    status  QTR_ID  month  year  ...                         adress  \\\n",
       "0  Shipped       1      2  2003  ...        897 Long Airport Avenue   \n",
       "1  Shipped       2      5  2003  ...             59 rue de l'Abbaye   \n",
       "2  Shipped       3      7  2003  ...  27 rue du Colonel Pierre Avia   \n",
       "3  Shipped       3      8  2003  ...             78934 Hillside Dr.   \n",
       "4  Shipped       4     10  2003  ...                7734 Strong St.   \n",
       "\n",
       "   adress_comp           city state zipcode country territory  \\\n",
       "0                         NYC    NY   10022     USA        NA   \n",
       "1                       Reims         51100  France      EMEA   \n",
       "2                       Paris         75508  France      EMEA   \n",
       "3                    Pasadena    CA   90003     USA        NA   \n",
       "4               San Francisco    CA             USA        NA   \n",
       "\n",
       "  contact_last_name contact_first_name  taille  \n",
       "0                Yu               Kwai   Small  \n",
       "1           Henriot               Paul   Small  \n",
       "2          Da Cunha             Daniel  Medium  \n",
       "3             Young              Julie  Medium  \n",
       "4             Brown              Julie  Medium  \n",
       "\n",
       "[5 rows x 25 columns]"
      ]
     },
     "execution_count": 62,
     "metadata": {},
     "output_type": "execute_result"
    }
   ],
   "source": [
    "df.head()"
   ]
  },
  {
   "cell_type": "markdown",
   "id": "c2e182db",
   "metadata": {},
   "source": [
    "<p style=\"font-size:23px; color:#B1BAA2; font-weight:bold;\">Chiffre d'affaires total 🐼 </p>\n"
   ]
  },
  {
   "cell_type": "code",
   "execution_count": 63,
   "id": "db809c39",
   "metadata": {},
   "outputs": [
    {
     "name": "stdout",
     "output_type": "stream",
     "text": [
      "Le chiffre d'affaire total est de : 10,032,628.85\n"
     ]
    }
   ],
   "source": [
    "ca_total = df['sales'].sum().round(2)\n",
    "print(f\"Le chiffre d'affaire total est de : {ca_total:,.2f}\")"
   ]
  },
  {
   "cell_type": "markdown",
   "id": "2c55a8e0",
   "metadata": {},
   "source": [
    "<p style=\"font-size:23px; color:#B1BAA2; font-weight:bold;\"> Nombre de clients et commandes  🐼 </p>"
   ]
  },
  {
   "cell_type": "code",
   "execution_count": 64,
   "id": "f50f9320",
   "metadata": {},
   "outputs": [
    {
     "name": "stdout",
     "output_type": "stream",
     "text": [
      "Commandes uniques : 307\n",
      "Clients distincts : 92\n"
     ]
    }
   ],
   "source": [
    "n_commandes = df[\"orderID\"].nunique()\n",
    "n_clients = df[\"company_name\"].nunique()\n",
    "print(f\"Commandes uniques : {n_commandes}\")\n",
    "print(f\"Clients distincts : {n_clients}\")\n"
   ]
  },
  {
   "cell_type": "code",
   "execution_count": 65,
   "id": "ff5f9cbd",
   "metadata": {},
   "outputs": [
    {
     "data": {
      "text/html": [
       "<div>\n",
       "<style scoped>\n",
       "    .dataframe tbody tr th:only-of-type {\n",
       "        vertical-align: middle;\n",
       "    }\n",
       "\n",
       "    .dataframe tbody tr th {\n",
       "        vertical-align: top;\n",
       "    }\n",
       "\n",
       "    .dataframe thead th {\n",
       "        text-align: right;\n",
       "    }\n",
       "</style>\n",
       "<table border=\"1\" class=\"dataframe\">\n",
       "  <thead>\n",
       "    <tr style=\"text-align: right;\">\n",
       "      <th></th>\n",
       "      <th>ref_prod</th>\n",
       "      <th>product_category</th>\n",
       "      <th>sales</th>\n",
       "    </tr>\n",
       "  </thead>\n",
       "  <tbody>\n",
       "    <tr>\n",
       "      <th>0</th>\n",
       "      <td>S18_3232</td>\n",
       "      <td>Classic Cars</td>\n",
       "      <td>288245.42</td>\n",
       "    </tr>\n",
       "    <tr>\n",
       "      <th>1</th>\n",
       "      <td>S10_1949</td>\n",
       "      <td>Classic Cars</td>\n",
       "      <td>191073.03</td>\n",
       "    </tr>\n",
       "    <tr>\n",
       "      <th>2</th>\n",
       "      <td>S10_4698</td>\n",
       "      <td>Motorcycles</td>\n",
       "      <td>170401.07</td>\n",
       "    </tr>\n",
       "    <tr>\n",
       "      <th>3</th>\n",
       "      <td>S12_1108</td>\n",
       "      <td>Classic Cars</td>\n",
       "      <td>168585.32</td>\n",
       "    </tr>\n",
       "    <tr>\n",
       "      <th>4</th>\n",
       "      <td>S18_2238</td>\n",
       "      <td>Classic Cars</td>\n",
       "      <td>154623.95</td>\n",
       "    </tr>\n",
       "    <tr>\n",
       "      <th>5</th>\n",
       "      <td>S12_3891</td>\n",
       "      <td>Classic Cars</td>\n",
       "      <td>145332.04</td>\n",
       "    </tr>\n",
       "    <tr>\n",
       "      <th>6</th>\n",
       "      <td>S24_3856</td>\n",
       "      <td>Classic Cars</td>\n",
       "      <td>140626.90</td>\n",
       "    </tr>\n",
       "    <tr>\n",
       "      <th>7</th>\n",
       "      <td>S12_2823</td>\n",
       "      <td>Motorcycles</td>\n",
       "      <td>140006.16</td>\n",
       "    </tr>\n",
       "    <tr>\n",
       "      <th>8</th>\n",
       "      <td>S18_1662</td>\n",
       "      <td>Planes</td>\n",
       "      <td>139421.97</td>\n",
       "    </tr>\n",
       "    <tr>\n",
       "      <th>9</th>\n",
       "      <td>S12_1099</td>\n",
       "      <td>Classic Cars</td>\n",
       "      <td>137177.01</td>\n",
       "    </tr>\n",
       "  </tbody>\n",
       "</table>\n",
       "</div>"
      ],
      "text/plain": [
       "   ref_prod product_category      sales\n",
       "0  S18_3232     Classic Cars  288245.42\n",
       "1  S10_1949     Classic Cars  191073.03\n",
       "2  S10_4698      Motorcycles  170401.07\n",
       "3  S12_1108     Classic Cars  168585.32\n",
       "4  S18_2238     Classic Cars  154623.95\n",
       "5  S12_3891     Classic Cars  145332.04\n",
       "6  S24_3856     Classic Cars  140626.90\n",
       "7  S12_2823      Motorcycles  140006.16\n",
       "8  S18_1662           Planes  139421.97\n",
       "9  S12_1099     Classic Cars  137177.01"
      ]
     },
     "execution_count": 65,
     "metadata": {},
     "output_type": "execute_result"
    }
   ],
   "source": [
    "top_produits = (\n",
    "    df.groupby([\"ref_prod\", \"product_category\"])[\"sales\"]\n",
    "      .sum()\n",
    "      .sort_values(ascending=False)\n",
    "      .head(10)\n",
    "      .reset_index()\n",
    ")\n",
    "top_produits\n"
   ]
  },
  {
   "cell_type": "markdown",
   "id": "d3513561",
   "metadata": {},
   "source": [
    "<h1 id=\"visualisation\" style=\"font-size:30px; color:#F27C5C; font-weight:bold;\">\n",
    "Visualisation de données avec matplotlib\n",
    "</h1>"
   ]
  },
  {
   "cell_type": "markdown",
   "id": "7be514dd",
   "metadata": {},
   "source": [
    "<p style=\"font-size:23px; color:#B1BAA2; font-weight:bold;\"> Évolution du chiffre d'affaires par année</p>"
   ]
  },
  {
   "cell_type": "code",
   "execution_count": 66,
   "id": "a05c8218",
   "metadata": {},
   "outputs": [
    {
     "data": {
      "image/png": "[encoded data removed]",
      "text/plain": [
       "<Figure size 600x400 with 1 Axes>"
      ]
     },
     "metadata": {},
     "output_type": "display_data"
    }
   ],
   "source": [
    "evol_annee = df.groupby(\"year\")[\"sales\"].sum().reset_index()\n",
    "plt.figure(figsize=(6,4))\n",
    "plt.bar(evol_annee[\"year\"], evol_annee[\"sales\"], color=[\"green\",'red','blue'])\n",
    "plt.title(\"Évolution du chiffre d'affaires par année\", color=\"#2F5D75\", fontsize=14)\n",
    "plt.ylabel(\"Chiffre d'affaires (€)\")\n",
    "plt.xlabel(\"Année\")\n",
    "plt.show()\n"
   ]
  },
  {
   "cell_type": "markdown",
   "id": "d5c7d67a",
   "metadata": {},
   "source": [
    "<p style=\"font-size:23px; color:#B1BAA2; font-weight:bold;\"> Chiffre d'affaires par trimestre</p>"
   ]
  },
  {
   "cell_type": "code",
   "execution_count": 67,
   "id": "f3e91386",
   "metadata": {},
   "outputs": [
    {
     "data": {
      "image/png": "[encoded data removed]",
      "text/plain": [
       "<Figure size 800x400 with 1 Axes>"
      ]
     },
     "metadata": {},
     "output_type": "display_data"
    }
   ],
   "source": [
    "evol_trim = df.groupby([\"year\", \"QTR_ID\"])[\"sales\"].sum().unstack()\n",
    "evol_trim.plot(kind=\"bar\", figsize=(8,4), color=[\"#77DD77\",'#FFD54F','#D2691E','#6ECFF6'])\n",
    "\n",
    "plt.title(\"Chiffre d'affaires par trimestre\", fontsize=14)\n",
    "plt.ylabel(\"Ventes (€)\")\n",
    "plt.xlabel(\"Année\")\n",
    "plt.legend(title=\"Trimestre\")\n",
    "plt.show()\n"
   ]
  },
  {
   "cell_type": "markdown",
   "id": "42744258",
   "metadata": {},
   "source": [
    "<p style=\"font-size:23px; color:#B1BAA2; font-weight:bold;\"> Top 10 pays par chiffres d'affaires </p>"
   ]
  },
  {
   "cell_type": "code",
   "execution_count": 68,
   "id": "18dea4a9",
   "metadata": {},
   "outputs": [
    {
     "data": {
      "image/png": "[encoded data removed]",
      "text/plain": [
       "<Figure size 600x500 with 1 Axes>"
      ]
     },
     "metadata": {},
     "output_type": "display_data"
    }
   ],
   "source": [
    "top_pays = df.groupby(\"country\")[\"sales\"].sum().nlargest(10).sort_values().reset_index()\n",
    "\n",
    "plt.figure(figsize=(6,5))\n",
    "plt.barh(top_pays[\"country\"], top_pays[\"sales\"], color=\"#93B336\")\n",
    "plt.title(\"Top 10 pays par chiffre d'affaires\", color=\"#2F5D75\", fontsize=14)\n",
    "plt.xlabel(\"Ventes (€)\")\n",
    "plt.show()\n"
   ]
  },
  {
   "cell_type": "markdown",
   "id": "7f78466a",
   "metadata": {},
   "source": [
    "<p style=\"font-size:23px; color:#B1BAA2; font-weight:bold;\"> Repartition du CA par categorie (Pie chart) </p>"
   ]
  },
  {
   "cell_type": "code",
   "execution_count": 69,
   "id": "008385e9",
   "metadata": {},
   "outputs": [
    {
     "data": {
      "image/png": "[encoded data removed]",
      "text/plain": [
       "<Figure size 500x500 with 1 Axes>"
      ]
     },
     "metadata": {},
     "output_type": "display_data"
    }
   ],
   "source": [
    "cat = df.groupby(\"product_category\")[\"sales\"].sum()\n",
    "\n",
    "plt.figure(figsize=(5,5))\n",
    "plt.pie(cat, labels=cat.index, autopct='%1.1f%%', colors=[\"#2F5D75\",\"#93B336\",\"#F2C94C\",\"#EB5757\",\"#77DD77\",'#FFD54F','#D2691E'])\n",
    "plt.title(\"Répartition du chiffre d'affaires par catégorie\", color=\"#2F5D75\", fontsize=14)\n",
    "plt.show()\n"
   ]
  },
  {
   "cell_type": "code",
   "execution_count": 70,
   "id": "6afeb5d8",
   "metadata": {},
   "outputs": [],
   "source": [
    "con.close()"
   ]
  }
 ],
 "metadata": {
  "kernelspec": {
   "display_name": "sql_env (3.14.0)",
   "language": "python",
   "name": "python3"
  },
  "language_info": {
   "codemirror_mode": {
    "name": "ipython",
    "version": 3
   },
   "file_extension": ".py",
   "mimetype": "text/x-python",
   "name": "python",
   "nbconvert_exporter": "python",
   "pygments_lexer": "ipython3",
   "version": "3.14.0"
  }
 },
 "nbformat": 4,
 "nbformat_minor": 5
}
